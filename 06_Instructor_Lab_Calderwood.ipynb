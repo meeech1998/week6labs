{
 "cells": [
  {
   "cell_type": "markdown",
   "id": "c111e40f-7fdb-467c-a880-80fab4c2eb0b",
   "metadata": {},
   "source": [
    "# Instructor-led Lab: Magic Crystal Ball  \n",
    "### Michelle Calderwood | 4.6.2025\n",
    "\n",
    "This notebook creates an interactive fortune-telling program using Python lists and random response logic. Users can ask multiple questions, receive random responses, review previous responses, and calculate charges based on usage."
   ]
  },
  {
   "cell_type": "code",
   "execution_count": 8,
   "id": "2e69832b-c5bb-467a-9c73-7d651fb70324",
   "metadata": {},
   "outputs": [],
   "source": [
    "### Step 1: Import required module\n",
    "import random"
   ]
  },
  {
   "cell_type": "markdown",
   "id": "a562e526-853b-4013-a7af-5dcacbfe09ae",
   "metadata": {},
   "source": [
    "#### Step 2: Define the list of magic responses  \n",
    "We start by defining a list that contains 8 required responses plus 3 additional ones to show some personality."
   ]
  },
  {
   "cell_type": "code",
   "execution_count": 16,
   "id": "e8886f5d-e66a-4098-98da-c696a770de94",
   "metadata": {},
   "outputs": [],
   "source": [
    "responses = [\n",
    "    \"It is certain\",\n",
    "    \"It is decidedly so\",\n",
    "    \"That question requires greater monetary compensation\",\n",
    "    \"Reply is hazy; try again, with more money\",\n",
    "    \"Concentrate and ask again\",\n",
    "    \"My reply is no\",\n",
    "    \"Outlook is not so good\",\n",
    "    \"Very doubtful\",\n",
    "    \"Only the moon knows...\",\n",
    "    \"Check back after Mercury leaves retrograde\",\n",
    "    \"The spirits say: nah\"\n",
    "]"
   ]
  },
  {
   "cell_type": "markdown",
   "id": "f393f724-129c-4ea7-938c-7270fb54230f",
   "metadata": {},
   "source": [
    "#### Step 3: Set up program state tracking  \n",
    "We use booleans and lists to track program state, including:\n",
    "- Whether the user has asked a question yet\n",
    "- Questions and answers\n",
    "- The total cost of the service"
   ]
  },
  {
   "cell_type": "code",
   "execution_count": 20,
   "id": "65201c9f-3de1-43a6-9efb-ff1c86d73acb",
   "metadata": {},
   "outputs": [],
   "source": [
    "asked_question = False\n",
    "questions = []\n",
    "answers = []\n",
    "total_cost = 0\n",
    "price_per_question = 30"
   ]
  },
  {
   "cell_type": "markdown",
   "id": "703f0146-5ae1-4c75-ab45-f0acf7260ce0",
   "metadata": {},
   "source": [
    "### Step 4: Main Menu Loop  \n",
    "The user will see a repeating menu until they choose to complete the service.  \n",
    "We use conditionals to manage the flow and store the user’s interaction history."
   ]
  },
  {
   "cell_type": "code",
   "execution_count": null,
   "id": "0798de75-5aa0-4e2c-b31e-b58bf9d2246f",
   "metadata": {},
   "outputs": [
    {
     "name": "stdout",
     "output_type": "stream",
     "text": [
      "\n",
      "Welcome to the all-seeing computer!\n",
      "\n",
      "1. Ask another question\n",
      "2. Review questions and responses\n",
      "3. Complete services and pay\n"
     ]
    }
   ],
   "source": [
    "while True:\n",
    "    # Dynamic first menu option\n",
    "    question_option = \"Ask a question\" if not asked_question else \"Ask another question\"\n",
    "\n",
    "    print(\"\\nWelcome to the all-seeing computer!\\n\")\n",
    "    print(\"1.\", question_option)\n",
    "    print(\"2. Review questions and responses\")\n",
    "    print(\"3. Complete services and pay\")\n",
    "\n",
    "    choice = input(\"\\nEnter your choice (1, 2, or 3): \")\n",
    "\n",
    "    if choice == \"1\":\n",
    "        user_question = input(\"\\nAsk what you seek to know...\\n\")\n",
    "        response = random.choice(responses)\n",
    "        questions.append(user_question)\n",
    "        answers.append(response)\n",
    "        total_cost += price_per_question\n",
    "        asked_question = True\n",
    "        print(\"\\n\" + response)\n",
    "\n",
    "    elif choice == \"2\":\n",
    "        if len(questions) == 0:\n",
    "            print(\"\\nNo questions asked yet!\")\n",
    "        else:\n",
    "            print(\"\\nHere are your past questions and my answers:\")\n",
    "            for q, a in zip(questions, answers):\n",
    "                print(f'Question: \"{q}\"\\nResponse: \"{a}\"\\n')\n",
    "\n",
    "    elif choice == \"3\":\n",
    "        print(\"\\nThank you for visiting the all-seeing computer.\")\n",
    "        print(f\"\\nYou asked {len(questions)} question(s). You owe ${total_cost:.2f} for today's services.\")\n",
    "        break  # Exit the loop to end program\n",
    "\n",
    "    else:\n",
    "        print(\"\\nThat is not an option. Please try again.\")"
   ]
  },
  {
   "cell_type": "markdown",
   "id": "f512d6a1-3d57-419e-b0ff-1a88fa2e6ab0",
   "metadata": {},
   "source": [
    "### Reference: ChatGPT Walkthrough\n",
    "\n",
    "For a detailed step-by-step logic breakdown used to structure this lab, see the companion notebook:  \n",
    "[ChatGPT_Walkthrough.ipynb](ChatGPT_Walkthrough.ipynb)\n",
    "\n",
    "This file is located in the same directory as this lab."
   ]
  }
 ],
 "metadata": {
  "kernelspec": {
   "display_name": "Python [conda env:base] *",
   "language": "python",
   "name": "conda-base-py"
  },
  "language_info": {
   "codemirror_mode": {
    "name": "ipython",
    "version": 3
   },
   "file_extension": ".py",
   "mimetype": "text/x-python",
   "name": "python",
   "nbconvert_exporter": "python",
   "pygments_lexer": "ipython3",
   "version": "3.12.7"
  }
 },
 "nbformat": 4,
 "nbformat_minor": 5
}
