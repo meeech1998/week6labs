{
 "cells": [
  {
   "cell_type": "markdown",
   "id": "07500c58-2f32-4122-9e77-c0d76d47360e",
   "metadata": {},
   "source": [
    "# Collections: Grade Entry System  \n",
    "### Michelle Calderwood | 4.6.2025  \n",
    "\n",
    "##### In this assignment, we build a student management system using lists.  \n",
    "##### The program allows users to add students, track GPA metrics, and assign academic violations.  "
   ]
  },
  {
   "cell_type": "code",
   "execution_count": 23,
   "id": "240a2698-ed1b-4aeb-b4b8-10442b089def",
   "metadata": {},
   "outputs": [],
   "source": [
    "import random as rand"
   ]
  },
  {
   "cell_type": "markdown",
   "id": "1690119b-7f82-4422-bc56-f9859462d506",
   "metadata": {},
   "source": [
    "### ---------------------------\n",
    "### Section: Initial Data Setup\n",
    "### ---------------------------"
   ]
  },
  {
   "cell_type": "code",
   "execution_count": 25,
   "id": "720c1bd7-14a1-4805-9eae-27bd13a7238c",
   "metadata": {},
   "outputs": [],
   "source": [
    "first_names = [\"Carmen\", \"Sydney\", \"Neil\", \"Marcus\"]\n",
    "last_names = [\"Berzatto\", \"Adamu\", \"Fak\", \"Brooks\"]\n",
    "majors = [\"Culinary Arts\", \"Business\", \"Engineering\", \"Psychology\"]\n",
    "gpas = [3.2, 3.7, 2.9, 3.5]\n",
    "violations = [\"\"] * 4\n",
    "\n",
    "violation_list = [\n",
    "    \"Copying homework\",\n",
    "    \"Cheating on exam\",\n",
    "    \"Plagiarism\",\n",
    "    \"Cheating on quiz\",\n",
    "    \"Writing paper for another student\"\n",
    "]"
   ]
  },
  {
   "cell_type": "markdown",
   "id": "3f2eb45d-09c3-4dfc-b898-80b217acd36e",
   "metadata": {},
   "source": [
    "### -----------------------------\n",
    "### Section: Display Student Info\n",
    "### -----------------------------"
   ]
  },
  {
   "cell_type": "markdown",
   "id": "c9f20601-ee70-4994-a6d1-563b7cbc6be9",
   "metadata": {},
   "source": [
    "def display_students():\n",
    "    print(\"\\n--- Current Students ---\")\n",
    "    for i in range(len(first_names)):\n",
    "        print(f\"{i+1}. {first_names[i]} {last_names[i]} | Major: {majors[i]} | GPA: {gpas[i]} | Violation: {violations[i] if violations[i] else 'None'}\")"
   ]
  },
  {
   "cell_type": "markdown",
   "id": "66951464-2dd4-4c1f-b518-f308d34bdc9e",
   "metadata": {},
   "source": [
    "### -----------------------------\n",
    "### Section: GPA Metrics\n",
    "### -----------------------------"
   ]
  },
  {
   "cell_type": "code",
   "execution_count": 29,
   "id": "e381cba6-0506-463d-982e-bb956e257090",
   "metadata": {},
   "outputs": [],
   "source": [
    "def query_gpa_metrics():\n",
    "    print(\"\\n--- GPA Metrics ---\")\n",
    "    print(f\"Max GPA: {max(gpas):.2f}\")\n",
    "    print(f\"Min GPA: {min(gpas):.2f}\")\n",
    "    print(f\"Average GPA: {sum(gpas)/len(gpas):.2f}\")"
   ]
  },
  {
   "cell_type": "markdown",
   "id": "ed3b5327-d377-403a-b0e0-8eefe4decb24",
   "metadata": {},
   "source": [
    "### -----------------------------\n",
    "### Section: Add New Student\n",
    "### -----------------------------"
   ]
  },
  {
   "cell_type": "code",
   "execution_count": 32,
   "id": "caccf2b8-857e-439e-ac64-79056fdfc065",
   "metadata": {},
   "outputs": [],
   "source": [
    "def add_student():\n",
    "    first = input(\"Enter first name: \")\n",
    "    last = input(\"Enter last name: \")\n",
    "    major = input(\"Enter major: \")\n",
    "    while True:\n",
    "        try:\n",
    "            gpa = float(input(\"Enter GPA (0.0 - 4.0): \"))\n",
    "            if 0.0 <= gpa <= 4.0:\n",
    "                break\n",
    "            else:\n",
    "                print(\"GPA must be between 0.0 and 4.0.\")\n",
    "        except:\n",
    "            print(\"Invalid GPA. Try again.\")\n",
    "    first_names.append(first)\n",
    "    last_names.append(last)\n",
    "    majors.append(major)\n",
    "    gpas.append(gpa)\n",
    "    violations.append(\"\")\n",
    "    print(f\"Student {first} {last} added successfully.\\n\")"
   ]
  },
  {
   "cell_type": "markdown",
   "id": "15cae514-65cf-41e0-8262-60cb9bce9a4f",
   "metadata": {},
   "source": [
    "### -----------------------------\n",
    "### Section: Assign Violation\n",
    "### -----------------------------"
   ]
  },
  {
   "cell_type": "code",
   "execution_count": 35,
   "id": "db371dd6-81f5-4200-a084-6e1840729149",
   "metadata": {},
   "outputs": [],
   "source": [
    "def assign_violation():\n",
    "    display_students()\n",
    "    try:\n",
    "        idx = int(input(\"\\nSelect a student by number: \")) - 1\n",
    "        if 0 <= idx < len(first_names):\n",
    "            print(\"\\nSelect an academic violation:\")\n",
    "            for i, v in enumerate(violation_list):\n",
    "                print(f\"{i+1}. {v}\")\n",
    "            v_choice = int(input(\"Your choice: \")) - 1\n",
    "            if 0 <= v_choice < len(violation_list):\n",
    "                violations[idx] = violation_list[v_choice]\n",
    "                print(f\"Violation assigned to {first_names[idx]} {last_names[idx]}.\")\n",
    "            else:\n",
    "                print(\"Invalid violation selected.\")\n",
    "        else:\n",
    "            print(\"Invalid student selected.\")\n",
    "    except:\n",
    "        print(\"Invalid input.\")"
   ]
  },
  {
   "cell_type": "markdown",
   "id": "87165c0b-1936-451f-a723-5f39d735fc78",
   "metadata": {},
   "source": [
    "### -----------------------------\n",
    "### Section: Main Menu\n",
    "### -----------------------------"
   ]
  },
  {
   "cell_type": "code",
   "execution_count": 38,
   "id": "9a540846-1622-4655-bfd8-db3aa051fb2c",
   "metadata": {},
   "outputs": [],
   "source": [
    "def run_menu():\n",
    "    while True:\n",
    "        print(\"\\n========== Grade Entry System ==========\")\n",
    "        print(\"1. Student Information Query\")\n",
    "        print(\"2. Student Information Entry\")\n",
    "        print(\"3. Query GPA Metrics\")\n",
    "        print(\"4. Academic Violations\")\n",
    "        print(\"5. Quit Program\")\n",
    "        choice = input(\"Enter your choice (1-5): \")\n",
    "\n",
    "        if choice == \"1\":\n",
    "            display_students()\n",
    "        elif choice == \"2\":\n",
    "            add_student()\n",
    "        elif choice == \"3\":\n",
    "            query_gpa_metrics()\n",
    "        elif choice == \"4\":\n",
    "            assign_violation()\n",
    "        elif choice == \"5\":\n",
    "            print(\"Exiting program...\")\n",
    "            break\n",
    "        else:\n",
    "            print(\"Invalid selection. Please try again.\")"
   ]
  },
  {
   "cell_type": "markdown",
   "id": "fb3cff8a-9aed-493d-ad14-17b26b08ea67",
   "metadata": {},
   "source": [
    "### -----------------------------\n",
    "### Run the program\n",
    "### -----------------------------"
   ]
  },
  {
   "cell_type": "code",
   "execution_count": null,
   "id": "9d99bacd-0799-4b5d-bd6e-f01344a882bf",
   "metadata": {},
   "outputs": [
    {
     "name": "stdout",
     "output_type": "stream",
     "text": [
      "\n",
      "========== Grade Entry System ==========\n",
      "1. Student Information Query\n",
      "2. Student Information Entry\n",
      "3. Query GPA Metrics\n",
      "4. Academic Violations\n",
      "5. Quit Program\n"
     ]
    }
   ],
   "source": [
    "run_menu()"
   ]
  },
  {
   "cell_type": "markdown",
   "id": "722a73d9-75bf-4d8d-82c9-cfc956a847ab",
   "metadata": {},
   "source": [
    "#### -----------------------------\n",
    "#### References\n",
    "#### -----------------------------\n",
    "For a detailed step-by-step logic breakdown used to structure this lab, see the companion notebook:  \n",
    "[ChatGPT_Independent.ipynb](ChatGPT_Independent.ipynb)\n",
    "\n",
    "This file is located in the same directory as this lab."
   ]
  }
 ],
 "metadata": {
  "kernelspec": {
   "display_name": "Python [conda env:base] *",
   "language": "python",
   "name": "conda-base-py"
  },
  "language_info": {
   "codemirror_mode": {
    "name": "ipython",
    "version": 3
   },
   "file_extension": ".py",
   "mimetype": "text/x-python",
   "name": "python",
   "nbconvert_exporter": "python",
   "pygments_lexer": "ipython3",
   "version": "3.12.7"
  }
 },
 "nbformat": 4,
 "nbformat_minor": 5
}
